{
 "cells": [
  {
   "cell_type": "markdown",
   "metadata": {},
   "source": [
    "mv percentages.csv p.csv\n",
    "grep \"Boston\" YRBSS_all.csv >> p.csv \n",
    "grep \"12th\" p.csv > p1.csv\n",
    "grep \"2017\" p1.csv > p.csv"
   ]
  },
  {
   "cell_type": "markdown",
   "metadata": {},
   "source": [
    "Calc \n",
    "    delete columns\n",
    "    sort and delete rows w/o Greater_Risk_Data_Value\n",
    "    Save"
   ]
  }
 ],
 "metadata": {
  "kernelspec": {
   "display_name": "Python 3",
   "language": "python",
   "name": "python3"
  },
  "language_info": {
   "codemirror_mode": {
    "name": "ipython",
    "version": 3
   },
   "file_extension": ".py",
   "mimetype": "text/x-python",
   "name": "python",
   "nbconvert_exporter": "python",
   "pygments_lexer": "ipython3",
   "version": "3.7.3"
  }
 },
 "nbformat": 4,
 "nbformat_minor": 2
}
